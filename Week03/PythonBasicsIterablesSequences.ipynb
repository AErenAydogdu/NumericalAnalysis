{
 "cells": [
  {
   "attachments": {},
   "cell_type": "markdown",
   "metadata": {},
   "source": [
    "# Python Iterables and Sequences"
   ]
  },
  {
   "attachments": {},
   "cell_type": "markdown",
   "metadata": {},
   "source": [
    "### 0: Strings"
   ]
  },
  {
   "cell_type": "code",
   "execution_count": 109,
   "metadata": {},
   "outputs": [
    {
     "name": "stdout",
     "output_type": "stream",
     "text": [
      "P\n",
      "B\n",
      "13\n",
      "s\n",
      "s\n",
      "i\n",
      "P\n",
      "Python\n",
      "Python\n",
      "Basics\n",
      "Python Basics\n",
      "Pto\n",
      "aB noht\n",
      "scisaB nohtyP\n"
     ]
    }
   ],
   "source": [
    "name = \"Python Basics\"\n",
    "#####   0123456789012\n",
    "print(name[0])\n",
    "print(name[7])\n",
    "print(len(name))\n",
    "print(name[len(name)-1])\n",
    "print(name[-1])\n",
    "print(name[-3])\n",
    "print(name[-len(name)])\n",
    "print(name[0:6]) # [)\n",
    "print(name[:6])\n",
    "print(name[7:])\n",
    "print(name[:]) # other_name = name[:] (copy)\n",
    "print(name[0:6:2])\n",
    "print(name[8:1:-1])\n",
    "print(name[::-1])"
   ]
  },
  {
   "cell_type": "code",
   "execution_count": 116,
   "metadata": {},
   "outputs": [
    {
     "name": "stdout",
     "output_type": "stream",
     "text": [
      "Python Basics\n",
      "thon Bas\n",
      "to a\n",
      "ia o\n",
      "Python Basics"
     ]
    }
   ],
   "source": [
    "# loops\n",
    "for i in range(len(name)):\n",
    "    print(name[i], end='')\n",
    "print('')\n",
    "for i in range(2, 10):\n",
    "    print(name[i], end='')\n",
    "print('')\n",
    "for i in range(2, 10, 2):\n",
    "    print(name[i], end='')\n",
    "print('')\n",
    "for i in range(10, 2, -2):\n",
    "    print(name[i], end='')\n",
    "print('')\n",
    "for c in name:\n",
    "    print(c, end='')"
   ]
  },
  {
   "cell_type": "markdown",
   "metadata": {},
   "source": [
    "### 1: Lists\n",
    "Ordered and mutable sequence of values indexed by integer numbers."
   ]
  },
  {
   "cell_type": "code",
   "execution_count": null,
   "metadata": {},
   "outputs": [
    {
     "name": "stdout",
     "output_type": "stream",
     "text": [
      "initialize: [] <class 'list'>\n",
      "append: [7, 9, 3]\n",
      "access: 3\n",
      "insert: [7, 5, 9, 3]\n",
      "update: [7, 5, 4, 3]\n",
      "remove: [7, 4, 3]\n",
      "3\n"
     ]
    }
   ],
   "source": [
    "# initialize\n",
    "a_list = []\n",
    "print(f\"initialize: {a_list} {type(a_list)}\")\n",
    "# append (adding an item to the end)\n",
    "a_list.append(7)\n",
    "a_list.append(9)\n",
    "a_list.append(3)\n",
    "print(f\"append: {a_list}\")\n",
    "# access an item\n",
    "print(f\"access: {a_list[2]}\")\n",
    "# insert an item with an index\n",
    "a_list.insert(1, 5)\n",
    "print(f\"insert: {a_list}\")\n",
    "# update an item\n",
    "a_list[2] = 4\n",
    "print(f\"update: {a_list}\")\n",
    "# remove an item\n",
    "del a_list[1]\n",
    "print(f\"remove: {a_list}\")\n",
    "print(a_list.pop())"
   ]
  },
  {
   "cell_type": "code",
   "execution_count": null,
   "metadata": {},
   "outputs": [
    {
     "data": {
      "text/plain": [
       "['__add__',\n",
       " '__class__',\n",
       " '__class_getitem__',\n",
       " '__contains__',\n",
       " '__delattr__',\n",
       " '__delitem__',\n",
       " '__dir__',\n",
       " '__doc__',\n",
       " '__eq__',\n",
       " '__format__',\n",
       " '__ge__',\n",
       " '__getattribute__',\n",
       " '__getitem__',\n",
       " '__gt__',\n",
       " '__hash__',\n",
       " '__iadd__',\n",
       " '__imul__',\n",
       " '__init__',\n",
       " '__init_subclass__',\n",
       " '__iter__',\n",
       " '__le__',\n",
       " '__len__',\n",
       " '__lt__',\n",
       " '__mul__',\n",
       " '__ne__',\n",
       " '__new__',\n",
       " '__reduce__',\n",
       " '__reduce_ex__',\n",
       " '__repr__',\n",
       " '__reversed__',\n",
       " '__rmul__',\n",
       " '__setattr__',\n",
       " '__setitem__',\n",
       " '__sizeof__',\n",
       " '__str__',\n",
       " '__subclasshook__',\n",
       " 'append',\n",
       " 'clear',\n",
       " 'copy',\n",
       " 'count',\n",
       " 'extend',\n",
       " 'index',\n",
       " 'insert',\n",
       " 'pop',\n",
       " 'remove',\n",
       " 'reverse',\n",
       " 'sort']"
      ]
     },
     "metadata": {},
     "output_type": "display_data"
    }
   ],
   "source": [
    "dir(a_list)"
   ]
  },
  {
   "cell_type": "code",
   "execution_count": null,
   "metadata": {},
   "outputs": [
    {
     "name": "stdout",
     "output_type": "stream",
     "text": [
      "[4, 7]\n",
      "[7, 4]\n"
     ]
    }
   ],
   "source": [
    "a_list.sort()\n",
    "print(a_list)\n",
    "a_list.reverse()\n",
    "print(a_list)"
   ]
  },
  {
   "cell_type": "markdown",
   "metadata": {},
   "source": [
    "### 2: Tuples\n",
    "Ordered and immutable sequence of values indexed by integer numbers."
   ]
  },
  {
   "cell_type": "code",
   "execution_count": null,
   "metadata": {},
   "outputs": [
    {
     "name": "stdout",
     "output_type": "stream",
     "text": [
      "initialize: (3, 5, 7, 9) <class 'tuple'>\n",
      "access: 7\n"
     ]
    },
    {
     "ename": "NameError",
     "evalue": "name 'a_tuple' is not defined",
     "output_type": "error",
     "traceback": [
      "\u001b[0;31m---------------------------------------------------------------------------\u001b[0m\n",
      "\u001b[0;31mNameError\u001b[0m                                 Traceback (most recent call last)\n",
      "Cell \u001b[0;32mIn [108], line 9\u001b[0m\n",
      "\u001b[1;32m      7\u001b[0m \u001b[38;5;66;03m# remove the whole tuple\u001b[39;00m\n",
      "\u001b[1;32m      8\u001b[0m \u001b[38;5;28;01mdel\u001b[39;00m a_tuple\n",
      "\u001b[0;32m----> 9\u001b[0m \u001b[38;5;28mprint\u001b[39m(\u001b[43ma_tuple\u001b[49m)\n",
      "\n",
      "\u001b[0;31mNameError\u001b[0m: name 'a_tuple' is not defined"
     ]
    }
   ],
   "source": [
    "# initialize\n",
    "a_tuple = (3, 5, 7, 9)\n",
    "print(f\"initialize: {a_tuple} {type(a_tuple)}\")\n",
    "# immutable: no append, no update, no remove\n",
    "# access an item\n",
    "print(f\"access: {a_tuple[2]}\")\n",
    "# remove the whole tuple\n",
    "del a_tuple\n",
    "print(a_tuple)"
   ]
  },
  {
   "cell_type": "markdown",
   "metadata": {},
   "source": [
    "### 3: Sets\n",
    "Unordered and mutable collection of values with no duplicate items. They support mathematical operations like union, intersection, difference, and symmetric difference."
   ]
  },
  {
   "cell_type": "code",
   "execution_count": null,
   "metadata": {},
   "outputs": [
    {
     "name": "stdout",
     "output_type": "stream",
     "text": [
      "initialize: {9, 3, 5, 7} <class 'set'>\n",
      "add: {1, 3, 5, 7, 9}\n",
      "remove: {1, 3, 5}\n",
      "fill again: {3, 5, 7}\n",
      "empty set: set()\n",
      "union of two sets: {1, 2, 3, 4, 5, 6, 7, 8}\n",
      "difference of two sets: {3, 5, 7} {8, 4, 6}\n",
      "symmetrical difference of two sets: {3, 4, 5, 6, 7, 8}\n"
     ]
    }
   ],
   "source": [
    "# initialize\n",
    "a_set = {3, 5, 5, 5, 5, 7, 7, 7, 7, 9, 3, 5, 7, 9}\n",
    "print(f\"initialize: {a_set} {type(a_set)}\")\n",
    "# add\n",
    "a_set.add(7)\n",
    "a_set.add(9)\n",
    "a_set.add(1)\n",
    "print(f\"add: {a_set}\")\n",
    "# unordered: no access, no insert, no update\n",
    "# remove an item (with the value)\n",
    "a_set.remove(9)\n",
    "a_set.discard(8) # a_set.remove(8) raises a key error\n",
    "a_set.discard(7)\n",
    "print(f\"remove: {a_set}\")\n",
    "# delete\n",
    "del a_set\n",
    "# remove all items rather than deleting the set\n",
    "a_set = set([3, 5, 7])\n",
    "print(f\"fill again: {a_set}\")\n",
    "a_set.clear()\n",
    "print(f\"empty set: {a_set}\")\n",
    "# union of two sets\n",
    "a_set_1 = {1, 2, 3, 5, 7}\n",
    "a_set_2 = {1, 2, 4, 6, 8}\n",
    "print(f\"union of two sets: {a_set_1 | a_set_2}\")\n",
    "# difference of two sets\n",
    "print(f\"difference of two sets: {a_set_1 - a_set_2} {a_set_2 - a_set_1}\")\n",
    "# symmetrical difference of two sets\n",
    "print(f\"symmetrical difference of two sets: {a_set_1 ^ a_set_2}\")"
   ]
  },
  {
   "cell_type": "markdown",
   "metadata": {},
   "source": [
    "### 4: Dictionaries\n",
    "Unordered and mutable set of key-value pairs"
   ]
  },
  {
   "cell_type": "code",
   "execution_count": null,
   "metadata": {},
   "outputs": [
    {
     "name": "stdout",
     "output_type": "stream",
     "text": [
      "initialize: {} <class 'dict'>\n",
      "add: {'first_name': 'Bora', 'last_name': 'Canbula', 'age': 38}\n",
      "access: Canbula\n",
      "keys: dict_keys(['first_name', 'last_name', 'age'])\n",
      "values: dict_values(['Bora', 'Canbula', 38])\n",
      "update: 39\n",
      "remove: {'first_name': 'Bora', 'age': 39}\n",
      "clear: {}\n"
     ]
    }
   ],
   "source": [
    "# initialize\n",
    "a_dict = {}\n",
    "print(f\"initialize: {a_dict} {type(a_dict)}\")\n",
    "# add an item with a key\n",
    "a_dict[\"first_name\"] = \"Bora\"\n",
    "a_dict[\"last_name\"] = \"Canbula\"\n",
    "a_dict[\"age\"] = 38\n",
    "print(f\"add: {a_dict}\")\n",
    "# access an item\n",
    "print(f\"access: {a_dict['last_name']}\")\n",
    "# list the keys and values\n",
    "print(f\"keys: {a_dict.keys()}\")\n",
    "print(f\"values: {a_dict.values()}\")\n",
    "# update an item\n",
    "a_dict[\"age\"] = 39\n",
    "print(f\"update: {a_dict['age']}\")\n",
    "# remove an item\n",
    "del a_dict[\"last_name\"]\n",
    "print(f\"remove: {a_dict}\")\n",
    "# remove all items\n",
    "a_dict.clear()\n",
    "print(f\"clear: {a_dict}\")"
   ]
  },
  {
   "cell_type": "code",
   "execution_count": null,
   "metadata": {},
   "outputs": [
    {
     "name": "stdout",
     "output_type": "stream",
     "text": [
      "first_name\n",
      "last_name\n",
      "age\n",
      "Bora\n",
      "Canbula\n",
      "38\n",
      "first_name Bora\n",
      "last_name Canbula\n",
      "age 38\n",
      "first_name Bora\n",
      "last_name Canbula\n",
      "age 38\n"
     ]
    }
   ],
   "source": [
    "a_dict = {'first_name': 'Bora', 'last_name': 'Canbula', 'age': 38}\n",
    "for k in a_dict.keys():\n",
    "    print(k)\n",
    "for v in a_dict.values():\n",
    "    print(v)\n",
    "for k, v in zip(a_dict.keys(), a_dict.values()):\n",
    "    print(k, v)\n",
    "for k, v in a_dict.items():\n",
    "    print(k, v)"
   ]
  },
  {
   "cell_type": "markdown",
   "metadata": {},
   "source": []
  }
 ],
 "metadata": {
  "kernelspec": {
   "display_name": "base",
   "language": "python",
   "name": "python3"
  },
  "language_info": {
   "codemirror_mode": {
    "name": "ipython",
    "version": 3
   },
   "file_extension": ".py",
   "mimetype": "text/x-python",
   "name": "python",
   "nbconvert_exporter": "python",
   "pygments_lexer": "ipython3",
   "version": "3.9.15"
  },
  "orig_nbformat": 4
 },
 "nbformat": 4,
 "nbformat_minor": 2
}
